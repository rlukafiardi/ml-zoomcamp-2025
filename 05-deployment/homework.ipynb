{
 "cells": [
  {
   "cell_type": "markdown",
   "id": "eca77d9c",
   "metadata": {},
   "source": [
    "### **Question 1**"
   ]
  },
  {
   "cell_type": "markdown",
   "id": "ddc9c62b",
   "metadata": {},
   "source": [
    "- Install `uv`\n",
    "- What's the version of uv you installed?\n",
    "- User `--version` to find out"
   ]
  },
  {
   "cell_type": "code",
   "execution_count": 2,
   "id": "c2746650",
   "metadata": {},
   "outputs": [
    {
     "name": "stdout",
     "output_type": "stream",
     "text": [
      "The version of uv is 0.9.5\n"
     ]
    }
   ],
   "source": [
    "print(\"The version of uv is 0.9.5\")"
   ]
  },
  {
   "cell_type": "markdown",
   "id": "7525fcb9",
   "metadata": {},
   "source": [
    "### **Question 2**"
   ]
  },
  {
   "cell_type": "markdown",
   "id": "15a5b354",
   "metadata": {},
   "source": [
    "- Use uv to install Scikit-Learn version 1.6.1\n",
    "- What's the first hash for Scikit-Learn you get in the lock file?\n",
    "- Include the entire string starting with sha256; don't include quotes"
   ]
  },
  {
   "cell_type": "code",
   "execution_count": 3,
   "id": "e082cff2",
   "metadata": {},
   "outputs": [
    {
     "name": "stdout",
     "output_type": "stream",
     "text": [
      "The first hash for Scikit-Learn: sha256:b4fc2525eca2c69a59260f583c56a7557c6ccdf8deafdba6e060f94c1c59738e\n"
     ]
    }
   ],
   "source": [
    "print(\"The first hash for Scikit-Learn: sha256:b4fc2525eca2c69a59260f583c56a7557c6ccdf8deafdba6e060f94c1c59738e\")"
   ]
  },
  {
   "cell_type": "markdown",
   "id": "bfe7dde0",
   "metadata": {},
   "source": [
    "### **Models**"
   ]
  },
  {
   "cell_type": "code",
   "execution_count": 4,
   "id": "c67e2ffe",
   "metadata": {},
   "outputs": [
    {
     "name": "stderr",
     "output_type": "stream",
     "text": [
      "--2025-10-28 09:56:18--  https://github.com/DataTalksClub/machine-learning-zoomcamp/raw/refs/heads/master/cohorts/2025/05-deployment/pipeline_v1.bin\n",
      "Resolving github.com (github.com)... 20.205.243.166\n",
      "Connecting to github.com (github.com)|20.205.243.166|:443... connected.\n",
      "HTTP request sent, awaiting response... 302 Found\n",
      "Location: https://raw.githubusercontent.com/DataTalksClub/machine-learning-zoomcamp/refs/heads/master/cohorts/2025/05-deployment/pipeline_v1.bin [following]\n",
      "--2025-10-28 09:56:19--  https://raw.githubusercontent.com/DataTalksClub/machine-learning-zoomcamp/refs/heads/master/cohorts/2025/05-deployment/pipeline_v1.bin\n",
      "Resolving raw.githubusercontent.com (raw.githubusercontent.com)... 185.199.108.133, 185.199.111.133, 185.199.110.133, ...\n",
      "Connecting to raw.githubusercontent.com (raw.githubusercontent.com)|185.199.108.133|:443... connected.\n",
      "HTTP request sent, awaiting response... 200 OK\n",
      "Length: 1300 (1.3K) [application/octet-stream]\n",
      "Saving to: 'pipeline_v1.bin'\n",
      "\n",
      "     0K .                                                     100% 59.3M=0s\n",
      "\n",
      "2025-10-28 09:56:19 (59.3 MB/s) - 'pipeline_v1.bin' saved [1300/1300]\n",
      "\n"
     ]
    }
   ],
   "source": [
    "!wget https://github.com/DataTalksClub/machine-learning-zoomcamp/raw/refs/heads/master/cohorts/2025/05-deployment/pipeline_v1.bin"
   ]
  },
  {
   "cell_type": "markdown",
   "id": "93d54780",
   "metadata": {},
   "source": [
    "### **Question 3**"
   ]
  },
  {
   "cell_type": "markdown",
   "id": "1e09cb36",
   "metadata": {},
   "source": [
    "Let's use the model!\n",
    "- Write a script for loading the pipeline with pickle\n",
    "- Score this record:\n",
    "```json\n",
    "{\n",
    "    \"lead_source\": \"paid_ads\",\n",
    "    \"number_of_courses_viewed\": 2,\n",
    "    \"annual_income\": 79276.0\n",
    "}\n",
    "```\n",
    "What's the probability that this lead will convert?\n",
    "The probability of given lead will convert is 0.534"
   ]
  },
  {
   "cell_type": "markdown",
   "id": "543a22c3",
   "metadata": {},
   "source": [
    "### **Question 4**"
   ]
  },
  {
   "cell_type": "markdown",
   "id": "21f0a76d",
   "metadata": {},
   "source": [
    "Now let's serve this model as a web service\n",
    "- Install FastAPI\n",
    "- Write FastAPI code for serving the model\n",
    "- Now score this client using requests:\n",
    "```python\n",
    "url = \"YOUR_URL\"\n",
    "client = {\n",
    "    \"lead_source\": \"organic_search\",\n",
    "    \"number_of_courses_viewed\": 4,\n",
    "    \"annual_income\": 80304.0\n",
    "}\n",
    "requests.post(url, json=client).json()\n",
    "```\n",
    "\n",
    "What's the probability that this client will get a subscription? The probability of given lead will get a subscription is 0.534"
   ]
  },
  {
   "cell_type": "markdown",
   "id": "6672b297",
   "metadata": {},
   "source": [
    "### **Question 5**"
   ]
  },
  {
   "cell_type": "markdown",
   "id": "5841c187",
   "metadata": {},
   "source": [
    "Download the base image `agrigorev/zoomcamp-model:2025`. You can easily make it by using docker pull command.\n",
    "\n",
    "So what's the size of this base image? The size of this base image is 121 MB"
   ]
  },
  {
   "cell_type": "markdown",
   "id": "7c733a57",
   "metadata": {},
   "source": [
    "### **Question 6**"
   ]
  },
  {
   "cell_type": "markdown",
   "id": "488a2932",
   "metadata": {},
   "source": [
    "Now create your own Dockerfile based on the image we prepared.\n",
    "\n",
    "It should start like that:\n",
    "\n",
    "```docker\n",
    "FROM agrigorev/zoomcamp-model:2025\n",
    "# add your stuff here```\n",
    "Now complete it:\n",
    "\n",
    "- Install all the dependencies from pyproject.toml\n",
    "- Copy your FastAPI script\n",
    "- Run it with uvicorn\n",
    "After that, you can build your docker image.\n",
    "\n",
    "Let`s run your docker container!\n",
    "\n",
    "What`s the probability that this lead will convert? The probability of given lead will convert is 0.534"
   ]
  }
 ],
 "metadata": {
  "kernelspec": {
   "display_name": "base",
   "language": "python",
   "name": "python3"
  },
  "language_info": {
   "codemirror_mode": {
    "name": "ipython",
    "version": 3
   },
   "file_extension": ".py",
   "mimetype": "text/x-python",
   "name": "python",
   "nbconvert_exporter": "python",
   "pygments_lexer": "ipython3",
   "version": "3.13.5"
  }
 },
 "nbformat": 4,
 "nbformat_minor": 5
}
