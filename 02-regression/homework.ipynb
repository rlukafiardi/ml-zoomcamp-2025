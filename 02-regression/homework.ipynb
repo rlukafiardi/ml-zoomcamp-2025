{
 "cells": [
  {
   "cell_type": "code",
   "execution_count": 1,
   "id": "bf182ffe",
   "metadata": {},
   "outputs": [],
   "source": [
    "import pandas as pd\n",
    "import numpy as np\n",
    "import seaborn as sns\n",
    "import matplotlib.pyplot as plt"
   ]
  },
  {
   "cell_type": "markdown",
   "id": "453d9a0e",
   "metadata": {},
   "source": [
    "### **Dataset**"
   ]
  },
  {
   "cell_type": "code",
   "execution_count": 2,
   "id": "d14de574",
   "metadata": {},
   "outputs": [
    {
     "name": "stderr",
     "output_type": "stream",
     "text": [
      "--2025-10-07 21:02:26--  https://raw.githubusercontent.com/alexeygrigorev/datasets/master/car_fuel_efficiency.csv\n",
      "Resolving raw.githubusercontent.com (raw.githubusercontent.com)... 185.199.109.133, 185.199.111.133, 185.199.110.133, ...\n",
      "Connecting to raw.githubusercontent.com (raw.githubusercontent.com)|185.199.109.133|:443... connected.\n",
      "HTTP request sent, awaiting response... 200 OK\n",
      "Length: 874188 (854K) [text/plain]\n",
      "Saving to: 'car_fuel_efficiency.csv'\n",
      "\n",
      "     0K .......... .......... .......... .......... ..........  5% 1.26M 1s\n",
      "    50K .......... .......... .......... .......... .......... 11% 1.88M 0s\n",
      "   100K .......... .......... .......... .......... .......... 17% 2.71M 0s\n",
      "   150K .......... .......... .......... .......... .......... 23% 2.49M 0s\n",
      "   200K .......... .......... .......... .......... .......... 29% 2.03M 0s\n",
      "   250K .......... .......... .......... .......... .......... 35% 2.44M 0s\n",
      "   300K .......... .......... .......... .......... .......... 40% 2.16M 0s\n",
      "   350K .......... .......... .......... .......... .......... 46% 2.19M 0s\n",
      "   400K .......... .......... .......... .......... .......... 52% 4.06M 0s\n",
      "   450K .......... .......... .......... .......... .......... 58% 2.25M 0s\n",
      "   500K .......... .......... .......... .......... .......... 64% 2.01M 0s\n",
      "   550K .......... .......... .......... .......... .......... 70% 2.95M 0s\n",
      "   600K .......... .......... .......... .......... .......... 76% 2.92M 0s\n",
      "   650K .......... .......... .......... .......... .......... 81% 2.62M 0s\n",
      "   700K .......... .......... .......... .......... .......... 87% 4.32M 0s\n",
      "   750K .......... .......... .......... .......... .......... 93% 4.00M 0s\n",
      "   800K .......... .......... .......... .......... .......... 99% 2.28M 0s\n",
      "   850K ...                                                   100% 70.6G=0.3s\n",
      "\n",
      "2025-10-07 21:02:27 (2.41 MB/s) - 'car_fuel_efficiency.csv' saved [874188/874188]\n",
      "\n"
     ]
    }
   ],
   "source": [
    "!wget https://raw.githubusercontent.com/alexeygrigorev/datasets/master/car_fuel_efficiency.csv"
   ]
  },
  {
   "cell_type": "markdown",
   "id": "6257b0f4",
   "metadata": {},
   "source": [
    "### **Preparing the Dataset**"
   ]
  },
  {
   "cell_type": "code",
   "execution_count": 8,
   "id": "20122adf",
   "metadata": {},
   "outputs": [
    {
     "data": {
      "text/html": [
       "<div>\n",
       "<style scoped>\n",
       "    .dataframe tbody tr th:only-of-type {\n",
       "        vertical-align: middle;\n",
       "    }\n",
       "\n",
       "    .dataframe tbody tr th {\n",
       "        vertical-align: top;\n",
       "    }\n",
       "\n",
       "    .dataframe thead th {\n",
       "        text-align: right;\n",
       "    }\n",
       "</style>\n",
       "<table border=\"1\" class=\"dataframe\">\n",
       "  <thead>\n",
       "    <tr style=\"text-align: right;\">\n",
       "      <th></th>\n",
       "      <th>engine_displacement</th>\n",
       "      <th>horsepower</th>\n",
       "      <th>vehicle_weight</th>\n",
       "      <th>model_year</th>\n",
       "      <th>fuel_efficiency_mpg</th>\n",
       "    </tr>\n",
       "  </thead>\n",
       "  <tbody>\n",
       "    <tr>\n",
       "      <th>0</th>\n",
       "      <td>170</td>\n",
       "      <td>159.0</td>\n",
       "      <td>3413.433759</td>\n",
       "      <td>2003</td>\n",
       "      <td>13.231729</td>\n",
       "    </tr>\n",
       "    <tr>\n",
       "      <th>1</th>\n",
       "      <td>130</td>\n",
       "      <td>97.0</td>\n",
       "      <td>3149.664934</td>\n",
       "      <td>2007</td>\n",
       "      <td>13.688217</td>\n",
       "    </tr>\n",
       "    <tr>\n",
       "      <th>2</th>\n",
       "      <td>170</td>\n",
       "      <td>78.0</td>\n",
       "      <td>3079.038997</td>\n",
       "      <td>2018</td>\n",
       "      <td>14.246341</td>\n",
       "    </tr>\n",
       "    <tr>\n",
       "      <th>3</th>\n",
       "      <td>220</td>\n",
       "      <td>NaN</td>\n",
       "      <td>2542.392402</td>\n",
       "      <td>2009</td>\n",
       "      <td>16.912736</td>\n",
       "    </tr>\n",
       "    <tr>\n",
       "      <th>4</th>\n",
       "      <td>210</td>\n",
       "      <td>140.0</td>\n",
       "      <td>3460.870990</td>\n",
       "      <td>2009</td>\n",
       "      <td>12.488369</td>\n",
       "    </tr>\n",
       "  </tbody>\n",
       "</table>\n",
       "</div>"
      ],
      "text/plain": [
       "   engine_displacement  horsepower  vehicle_weight  model_year  \\\n",
       "0                  170       159.0     3413.433759        2003   \n",
       "1                  130        97.0     3149.664934        2007   \n",
       "2                  170        78.0     3079.038997        2018   \n",
       "3                  220         NaN     2542.392402        2009   \n",
       "4                  210       140.0     3460.870990        2009   \n",
       "\n",
       "   fuel_efficiency_mpg  \n",
       "0            13.231729  \n",
       "1            13.688217  \n",
       "2            14.246341  \n",
       "3            16.912736  \n",
       "4            12.488369  "
      ]
     },
     "execution_count": 8,
     "metadata": {},
     "output_type": "execute_result"
    }
   ],
   "source": [
    "df = pd.read_csv('car_fuel_efficiency.csv',\n",
    "            usecols=['engine_displacement', 'horsepower',\n",
    "                     'vehicle_weight', 'model_year', 'fuel_efficiency_mpg'])\n",
    "df.head()"
   ]
  },
  {
   "cell_type": "code",
   "execution_count": 10,
   "id": "0c5579ea",
   "metadata": {},
   "outputs": [
    {
     "name": "stdout",
     "output_type": "stream",
     "text": [
      "<class 'pandas.core.frame.DataFrame'>\n",
      "RangeIndex: 9704 entries, 0 to 9703\n",
      "Data columns (total 5 columns):\n",
      " #   Column               Non-Null Count  Dtype  \n",
      "---  ------               --------------  -----  \n",
      " 0   engine_displacement  9704 non-null   int64  \n",
      " 1   horsepower           8996 non-null   float64\n",
      " 2   vehicle_weight       9704 non-null   float64\n",
      " 3   model_year           9704 non-null   int64  \n",
      " 4   fuel_efficiency_mpg  9704 non-null   float64\n",
      "dtypes: float64(3), int64(2)\n",
      "memory usage: 379.2 KB\n"
     ]
    }
   ],
   "source": [
    "df.info()"
   ]
  },
  {
   "cell_type": "markdown",
   "id": "a38bf21a",
   "metadata": {},
   "source": [
    "### **EDA**"
   ]
  },
  {
   "cell_type": "code",
   "execution_count": 11,
   "id": "6e7a2e49",
   "metadata": {},
   "outputs": [
    {
     "data": {
      "text/plain": [
       "<Axes: xlabel='fuel_efficiency_mpg', ylabel='Count'>"
      ]
     },
     "execution_count": 11,
     "metadata": {},
     "output_type": "execute_result"
    },
    {
     "data": {
      "image/png": "[encoded data removed]",
      "text/plain": [
       "<Figure size 640x480 with 1 Axes>"
      ]
     },
     "metadata": {},
     "output_type": "display_data"
    }
   ],
   "source": [
    "sns.histplot(data=df, x='fuel_efficiency_mpg')"
   ]
  },
  {
   "cell_type": "markdown",
   "id": "16e2267c",
   "metadata": {},
   "source": [
    "### **Question 1**\n",
    "There's one column with missing values. What is it?"
   ]
  },
  {
   "cell_type": "code",
   "execution_count": 12,
   "id": "abc232b0",
   "metadata": {},
   "outputs": [
    {
     "name": "stdout",
     "output_type": "stream",
     "text": [
      "horsepower column has missing values\n"
     ]
    }
   ],
   "source": [
    "missing_columns = df.columns[df.isnull().any()][0]\n",
    "print(f\"{missing_columns} column has missing values\")"
   ]
  },
  {
   "cell_type": "markdown",
   "id": "2834b10b",
   "metadata": {},
   "source": [
    "### **Question 2**\n",
    "What's the median (50% percentile) for variable 'horsepower'"
   ]
  },
  {
   "cell_type": "code",
   "execution_count": 15,
   "id": "fdfb5bbc",
   "metadata": {},
   "outputs": [
    {
     "name": "stdout",
     "output_type": "stream",
     "text": [
      "The median of horsepower variable is 149.0\n"
     ]
    }
   ],
   "source": [
    "median_horsepower = np.median(df['horsepower'].dropna())\n",
    "print(f\"The median of horsepower variable is {median_horsepower}\")"
   ]
  },
  {
   "cell_type": "markdown",
   "id": "3a416dd5",
   "metadata": {},
   "source": [
    "### **Prepare and split the dataset**\n",
    "- Shuffle the dataset (the filtered one you created above), use seed 42.\n",
    "- Split your data in train/val/test sets, with 60%/20%/20% distribution"
   ]
  },
  {
   "cell_type": "code",
   "execution_count": 16,
   "id": "1ef554f1",
   "metadata": {},
   "outputs": [],
   "source": [
    "n = df.shape[0]\n",
    "n_val = int(n * 0.2)\n",
    "n_test = int(n * 0.2)\n",
    "n_train = n - n_val - n_test\n",
    "\n",
    "assert n == n_train + n_val + n_test"
   ]
  },
  {
   "cell_type": "code",
   "execution_count": 17,
   "id": "eb82eef2",
   "metadata": {},
   "outputs": [],
   "source": [
    "idx = np.arange(n)\n",
    "\n",
    "np.random.seed(42)\n",
    "np.random.shuffle(idx)"
   ]
  },
  {
   "cell_type": "code",
   "execution_count": 18,
   "id": "29677a53",
   "metadata": {},
   "outputs": [],
   "source": [
    "df_train = df.iloc[idx[:n_train]].reset_index(drop=False)\n",
    "df_val = df.iloc[idx[n_train:n_train+n_val]].reset_index(drop=False)\n",
    "df_test = df.iloc[idx[n_train+n_val:]].reset_index(drop=False)\n",
    "\n",
    "assert df.shape[0] == df_train.shape[0] + df_val.shape[0] + df_test.shape[0]"
   ]
  },
  {
   "cell_type": "markdown",
   "id": "f92b5a32",
   "metadata": {},
   "source": [
    "### **Question 3**\n",
    "- We need to deal with missing values for the column from Q1.\n",
    "- We have two options: fill it with 0 or with the mean of this variable.\n",
    "- Try both options. For each, train a linear regression model without regularization using the code from the lessons.\n",
    "- For computing the mean, use the training only!\n",
    "- Use the validation dataset to evaluate the models and compare the RMSE of each option.\n",
    "- Round the RMSE scores to 2 decimal digits using round(score, 2)\n",
    "- Which option gives better RMSE?"
   ]
  },
  {
   "cell_type": "code",
   "execution_count": 19,
   "id": "f7afa2c2",
   "metadata": {},
   "outputs": [],
   "source": [
    "mean_horsepower = df_train['horsepower'].mean()\n",
    "\n",
    "def prepare_X(df, impute_na=0):\n",
    "    df = df.copy()\n",
    "    df['horsepower'] = df['horsepower'].fillna(impute_na)\n",
    "    X = df.iloc[:, :-1].values\n",
    "\n",
    "    return X\n",
    "\n",
    "X_train_zero = prepare_X(df_train)\n",
    "X_train_mean = prepare_X(df_train, impute_na=mean_horsepower)\n",
    "y_train = df_train.iloc[:, -1].values\n",
    "\n",
    "X_val_zero = prepare_X(df_val)\n",
    "X_val_mean = prepare_X(df_val, impute_na=mean_horsepower)\n",
    "y_val = df_val.iloc[:, -1].values\n",
    "\n",
    "X_test_zero = prepare_X(df_test)\n",
    "X_test_mean = prepare_X(df_test, impute_na=mean_horsepower)\n",
    "y_test = df_test.iloc[:, -1].values"
   ]
  },
  {
   "cell_type": "code",
   "execution_count": 20,
   "id": "b561f93f",
   "metadata": {},
   "outputs": [],
   "source": [
    "def train_linear_regression(X, y):\n",
    "    ones = np.ones(X.shape[0])\n",
    "    X = np.column_stack([ones, X])\n",
    "\n",
    "    XTX = X.T.dot(X)\n",
    "    XTX_inv = np.linalg.inv(XTX)\n",
    "    w_full = XTX_inv.dot(X.T).dot(y)\n",
    "    \n",
    "    return w_full[0], w_full[1:]\n",
    "\n",
    "def rmse(y, y_pred):\n",
    "    se = (y - y_pred) ** 2\n",
    "    mse = se.mean()\n",
    "    rmse = round(np.sqrt(mse), 2)\n",
    "    return rmse"
   ]
  },
  {
   "cell_type": "code",
   "execution_count": 21,
   "id": "b590b176",
   "metadata": {},
   "outputs": [
    {
     "name": "stdout",
     "output_type": "stream",
     "text": [
      "RMSE for model with imputed null value with zero values: 0.52\n"
     ]
    }
   ],
   "source": [
    "w0, w = train_linear_regression(X_train_zero, y_train)\n",
    "y_pred_zero = w0 + X_val_zero.dot(w)\n",
    "rmse_zero = rmse(y_val, y_pred_zero)\n",
    "\n",
    "print(f\"RMSE for model with imputed null value with zero values: {rmse_zero}\")"
   ]
  },
  {
   "cell_type": "code",
   "execution_count": 22,
   "id": "e917b75c",
   "metadata": {},
   "outputs": [
    {
     "name": "stdout",
     "output_type": "stream",
     "text": [
      "RMSE for model with imputed null value with mean of training value: 0.46\n"
     ]
    }
   ],
   "source": [
    "w0, w = train_linear_regression(X_train_mean, y_train)\n",
    "y_pred_mean = w0 + X_val_mean.dot(w)\n",
    "rmse_mean = rmse(y_val, y_pred_mean)\n",
    "\n",
    "print(f\"RMSE for model with imputed null value with mean of training value: {rmse_mean}\")"
   ]
  },
  {
   "cell_type": "markdown",
   "id": "40d6bdc0",
   "metadata": {},
   "source": [
    "Option with imputed mean gives better RMSE"
   ]
  },
  {
   "cell_type": "markdown",
   "id": "9f694c9b",
   "metadata": {},
   "source": [
    "### **Question 4**\n",
    "- Now let's train a regularized linear regression.\n",
    "- For this question, fill the NAs with 0.\n",
    "- Try different values of r from this list: [0, 0.01, 0.1, 1, 5, 10, 100].\n",
    "- Use RMSE to evaluate the model on the validation dataset.\n",
    "- Round the RMSE scores to 2 decimal digits.\n",
    "- Which r gives the best RMSE?"
   ]
  },
  {
   "cell_type": "code",
   "execution_count": 23,
   "id": "943e09c3",
   "metadata": {},
   "outputs": [],
   "source": [
    "def train_linear_regression_reg(X, y, r=0.001):\n",
    "    ones = np.ones(X.shape[0])\n",
    "    X = np.column_stack([ones, X])\n",
    "\n",
    "    XTX = X.T.dot(X)\n",
    "    XTX = XTX + r * np.eye(XTX.shape[0])\n",
    "\n",
    "    XTX_inv = np.linalg.inv(XTX)\n",
    "    w_full = XTX_inv.dot(X.T).dot(y)\n",
    "    \n",
    "    return w_full[0], w_full[1:]"
   ]
  },
  {
   "cell_type": "code",
   "execution_count": 24,
   "id": "166fc304",
   "metadata": {},
   "outputs": [
    {
     "name": "stdout",
     "output_type": "stream",
     "text": [
      "Best r value based on the minimum RMSE: 0\n"
     ]
    }
   ],
   "source": [
    "rmse_scores = {}\n",
    "list_r = [0, 0.01, 0.1, 1, 5, 10, 100]\n",
    "\n",
    "for r in list_r:\n",
    "    w0, w = train_linear_regression_reg(X_train_zero, y_train, r)\n",
    "    y_pred_zero = w0 + X_val_zero.dot(w)\n",
    "    rmse_zero = rmse(y_val, y_pred_zero)\n",
    "    rmse_scores[r] = rmse_zero\n",
    "\n",
    "best_r = min(rmse_scores.items(), key=lambda k: k[1])[0]\n",
    "print(f\"Best r value based on the minimum RMSE: {best_r}\")"
   ]
  },
  {
   "cell_type": "markdown",
   "id": "7dc782e1",
   "metadata": {},
   "source": [
    "### **Question 5**\n",
    "- We used seed 42 for splitting the data. Let's find out how selecting the seed influences our score.\n",
    "- Try different seed values: [0, 1, 2, 3, 4, 5, 6, 7, 8, 9].\n",
    "- For each seed, do the train/validation/test split with 60%/20%/20% distribution.\n",
    "- Fill the missing values with 0 and train a model without regularization.\n",
    "- For each seed, evaluate the model on the validation dataset and collect the RMSE scores.\n",
    "- What's the standard deviation of all the scores? To compute the standard deviation, use np.std.\n",
    "- Round the result to 3 decimal digits (round(std, 3))\n",
    "\n",
    "What's the value of std?"
   ]
  },
  {
   "cell_type": "code",
   "execution_count": 25,
   "id": "02bab71f",
   "metadata": {},
   "outputs": [
    {
     "name": "stdout",
     "output_type": "stream",
     "text": [
      "The standard deviation across RMSE scores: 0.007\n"
     ]
    }
   ],
   "source": [
    "seed_values = [0, 1, 2, 3, 4, 5, 6, 7, 8, 9]\n",
    "rmse_scores = []\n",
    "\n",
    "for s in seed_values:\n",
    "    idx = np.arange(n)\n",
    "    np.random.seed(s)\n",
    "    np.random.shuffle(idx)\n",
    "\n",
    "    df_train = df.iloc[idx[:n_train]].reset_index(drop=False)\n",
    "    df_val = df.iloc[idx[n_train:n_train+n_val]].reset_index(drop=False)\n",
    "    df_test = df.iloc[idx[n_train+n_val:]].reset_index(drop=False)\n",
    "\n",
    "    X_train_zero = prepare_X(df_train)\n",
    "    y_train = df_train.iloc[:, -1].values\n",
    "\n",
    "    X_val_zero = prepare_X(df_val)\n",
    "    y_val = df_val.iloc[:, -1].values\n",
    "\n",
    "    X_test_zero = prepare_X(df_test)\n",
    "    y_test = df_test.iloc[:, -1]\n",
    "    \n",
    "    w0, w = train_linear_regression(X_train_zero, y_train)\n",
    "    y_pred_zero = w0 + X_val_zero.dot(w)\n",
    "    rmse_zero = rmse(y_val, y_pred_zero)\n",
    "\n",
    "    rmse_scores.append(rmse_zero)\n",
    "\n",
    "std_rmse = round(np.std(rmse_scores), 3)\n",
    "print(f\"The standard deviation across RMSE scores: {std_rmse}\")"
   ]
  },
  {
   "cell_type": "markdown",
   "id": "f18f7f0c",
   "metadata": {},
   "source": [
    "### **Question 6**\n",
    "- Split the dataset like previously, use seed 9.\n",
    "- Combine train and validation datasets.\n",
    "- Fill the missing values with 0 and train a model with r=0.001.\n",
    "- What's the RMSE on the test dataset?"
   ]
  },
  {
   "cell_type": "code",
   "execution_count": 26,
   "id": "e46ba162",
   "metadata": {},
   "outputs": [
    {
     "name": "stdout",
     "output_type": "stream",
     "text": [
      "The RMSE of the model: 0.52\n"
     ]
    }
   ],
   "source": [
    "idx = np.arange(n)\n",
    "np.random.seed(9)\n",
    "np.random.shuffle(idx)\n",
    "\n",
    "df_full_train = df.iloc[idx[:n_train+n_val]].reset_index(drop=False)\n",
    "df_test = df.iloc[idx[n_train+n_val:]].reset_index(drop=False)\n",
    "\n",
    "X_train = prepare_X(df_full_train)\n",
    "y_train = df_full_train.iloc[:, -1].values\n",
    "\n",
    "X_test = prepare_X(df_test)\n",
    "y_test = df_test.iloc[:, -1].values\n",
    "\n",
    "w0, w = train_linear_regression_reg(X_train, y_train, r=0.001)\n",
    "y_pred = w0 + X_test.dot(w)\n",
    "rmse_model = rmse(y_test, y_pred)\n",
    "\n",
    "\n",
    "print(f\"The RMSE of the model: {rmse_model}\")"
   ]
  }
 ],
 "metadata": {
  "kernelspec": {
   "display_name": "base",
   "language": "python",
   "name": "python3"
  },
  "language_info": {
   "codemirror_mode": {
    "name": "ipython",
    "version": 3
   },
   "file_extension": ".py",
   "mimetype": "text/x-python",
   "name": "python",
   "nbconvert_exporter": "python",
   "pygments_lexer": "ipython3",
   "version": "3.13.5"
  }
 },
 "nbformat": 4,
 "nbformat_minor": 5
}
