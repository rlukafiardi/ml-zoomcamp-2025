{
 "cells": [
  {
   "cell_type": "code",
   "execution_count": 24,
   "id": "1e44f439",
   "metadata": {},
   "outputs": [],
   "source": [
    "import pandas as pd\n",
    "import numpy as np"
   ]
  },
  {
   "cell_type": "markdown",
   "id": "ef8da22b",
   "metadata": {},
   "source": [
    "### **Question 1**\n",
    "What version of Pandas did you install?"
   ]
  },
  {
   "cell_type": "code",
   "execution_count": 2,
   "id": "741168ac",
   "metadata": {},
   "outputs": [
    {
     "data": {
      "text/plain": [
       "'2.3.2'"
      ]
     },
     "execution_count": 2,
     "metadata": {},
     "output_type": "execute_result"
    }
   ],
   "source": [
    "pd.__version__"
   ]
  },
  {
   "cell_type": "markdown",
   "id": "49d38350",
   "metadata": {},
   "source": [
    "### **Getting the Data**"
   ]
  },
  {
   "cell_type": "code",
   "execution_count": 3,
   "id": "f92adaf5",
   "metadata": {},
   "outputs": [
    {
     "name": "stderr",
     "output_type": "stream",
     "text": [
      "--2025-09-30 15:01:53--  https://raw.githubusercontent.com/alexeygrigorev/datasets/master/car_fuel_efficiency.csv\n",
      "Resolving raw.githubusercontent.com (raw.githubusercontent.com)... 185.199.108.133, 185.199.110.133, 185.199.109.133, ...\n",
      "Connecting to raw.githubusercontent.com (raw.githubusercontent.com)|185.199.108.133|:443... connected.\n",
      "HTTP request sent, awaiting response... 200 OK\n",
      "Length: 874188 (854K) [text/plain]\n",
      "Saving to: 'car_fuel_efficiency.csv'\n",
      "\n",
      "     0K .......... .......... .......... .......... ..........  5% 1.63M 0s\n",
      "    50K .......... .......... .......... .......... .......... 11% 2.61M 0s\n",
      "   100K .......... .......... .......... .......... .......... 17% 7.61M 0s\n",
      "   150K .......... .......... .......... .......... .......... 23% 5.06M 0s\n",
      "   200K .......... .......... .......... .......... .......... 29% 2.41M 0s\n",
      "   250K .......... .......... .......... .......... .......... 35% 25.9M 0s\n",
      "   300K .......... .......... .......... .......... .......... 40% 9.80M 0s\n",
      "   350K .......... .......... .......... .......... .......... 46% 3.39M 0s\n",
      "   400K .......... .......... .......... .......... .......... 52% 14.9M 0s\n",
      "   450K .......... .......... .......... .......... .......... 58% 6.20M 0s\n",
      "   500K .......... .......... .......... .......... .......... 64% 4.03M 0s\n",
      "   550K .......... .......... .......... .......... .......... 70% 6.72M 0s\n",
      "   600K .......... .......... .......... .......... .......... 76% 17.0M 0s\n",
      "   650K .......... .......... .......... .......... .......... 81% 10.2M 0s\n",
      "   700K .......... .......... .......... .......... .......... 87% 1.61M 0s\n",
      "   750K .......... .......... .......... .......... .......... 93% 5.05M 0s\n",
      "   800K .......... .......... .......... .......... .......... 99% 17.6M 0s\n",
      "   850K ...                                                   100% 70.6G=0.2s\n",
      "\n",
      "2025-09-30 15:01:53 (4.45 MB/s) - 'car_fuel_efficiency.csv' saved [874188/874188]\n",
      "\n"
     ]
    }
   ],
   "source": [
    "!wget https://raw.githubusercontent.com/alexeygrigorev/datasets/master/car_fuel_efficiency.csv"
   ]
  },
  {
   "cell_type": "code",
   "execution_count": 4,
   "id": "c1f3dda0",
   "metadata": {},
   "outputs": [
    {
     "data": {
      "text/html": [
       "<div>\n",
       "<style scoped>\n",
       "    .dataframe tbody tr th:only-of-type {\n",
       "        vertical-align: middle;\n",
       "    }\n",
       "\n",
       "    .dataframe tbody tr th {\n",
       "        vertical-align: top;\n",
       "    }\n",
       "\n",
       "    .dataframe thead th {\n",
       "        text-align: right;\n",
       "    }\n",
       "</style>\n",
       "<table border=\"1\" class=\"dataframe\">\n",
       "  <thead>\n",
       "    <tr style=\"text-align: right;\">\n",
       "      <th></th>\n",
       "      <th>engine_displacement</th>\n",
       "      <th>num_cylinders</th>\n",
       "      <th>horsepower</th>\n",
       "      <th>vehicle_weight</th>\n",
       "      <th>acceleration</th>\n",
       "      <th>model_year</th>\n",
       "      <th>origin</th>\n",
       "      <th>fuel_type</th>\n",
       "      <th>drivetrain</th>\n",
       "      <th>num_doors</th>\n",
       "      <th>fuel_efficiency_mpg</th>\n",
       "    </tr>\n",
       "  </thead>\n",
       "  <tbody>\n",
       "    <tr>\n",
       "      <th>0</th>\n",
       "      <td>170</td>\n",
       "      <td>3.0</td>\n",
       "      <td>159.0</td>\n",
       "      <td>3413.433759</td>\n",
       "      <td>17.7</td>\n",
       "      <td>2003</td>\n",
       "      <td>Europe</td>\n",
       "      <td>Gasoline</td>\n",
       "      <td>All-wheel drive</td>\n",
       "      <td>0.0</td>\n",
       "      <td>13.231729</td>\n",
       "    </tr>\n",
       "    <tr>\n",
       "      <th>1</th>\n",
       "      <td>130</td>\n",
       "      <td>5.0</td>\n",
       "      <td>97.0</td>\n",
       "      <td>3149.664934</td>\n",
       "      <td>17.8</td>\n",
       "      <td>2007</td>\n",
       "      <td>USA</td>\n",
       "      <td>Gasoline</td>\n",
       "      <td>Front-wheel drive</td>\n",
       "      <td>0.0</td>\n",
       "      <td>13.688217</td>\n",
       "    </tr>\n",
       "    <tr>\n",
       "      <th>2</th>\n",
       "      <td>170</td>\n",
       "      <td>NaN</td>\n",
       "      <td>78.0</td>\n",
       "      <td>3079.038997</td>\n",
       "      <td>15.1</td>\n",
       "      <td>2018</td>\n",
       "      <td>Europe</td>\n",
       "      <td>Gasoline</td>\n",
       "      <td>Front-wheel drive</td>\n",
       "      <td>0.0</td>\n",
       "      <td>14.246341</td>\n",
       "    </tr>\n",
       "    <tr>\n",
       "      <th>3</th>\n",
       "      <td>220</td>\n",
       "      <td>4.0</td>\n",
       "      <td>NaN</td>\n",
       "      <td>2542.392402</td>\n",
       "      <td>20.2</td>\n",
       "      <td>2009</td>\n",
       "      <td>USA</td>\n",
       "      <td>Diesel</td>\n",
       "      <td>All-wheel drive</td>\n",
       "      <td>2.0</td>\n",
       "      <td>16.912736</td>\n",
       "    </tr>\n",
       "    <tr>\n",
       "      <th>4</th>\n",
       "      <td>210</td>\n",
       "      <td>1.0</td>\n",
       "      <td>140.0</td>\n",
       "      <td>3460.870990</td>\n",
       "      <td>14.4</td>\n",
       "      <td>2009</td>\n",
       "      <td>Europe</td>\n",
       "      <td>Gasoline</td>\n",
       "      <td>All-wheel drive</td>\n",
       "      <td>2.0</td>\n",
       "      <td>12.488369</td>\n",
       "    </tr>\n",
       "  </tbody>\n",
       "</table>\n",
       "</div>"
      ],
      "text/plain": [
       "   engine_displacement  num_cylinders  horsepower  vehicle_weight  \\\n",
       "0                  170            3.0       159.0     3413.433759   \n",
       "1                  130            5.0        97.0     3149.664934   \n",
       "2                  170            NaN        78.0     3079.038997   \n",
       "3                  220            4.0         NaN     2542.392402   \n",
       "4                  210            1.0       140.0     3460.870990   \n",
       "\n",
       "   acceleration  model_year  origin fuel_type         drivetrain  num_doors  \\\n",
       "0          17.7        2003  Europe  Gasoline    All-wheel drive        0.0   \n",
       "1          17.8        2007     USA  Gasoline  Front-wheel drive        0.0   \n",
       "2          15.1        2018  Europe  Gasoline  Front-wheel drive        0.0   \n",
       "3          20.2        2009     USA    Diesel    All-wheel drive        2.0   \n",
       "4          14.4        2009  Europe  Gasoline    All-wheel drive        2.0   \n",
       "\n",
       "   fuel_efficiency_mpg  \n",
       "0            13.231729  \n",
       "1            13.688217  \n",
       "2            14.246341  \n",
       "3            16.912736  \n",
       "4            12.488369  "
      ]
     },
     "execution_count": 4,
     "metadata": {},
     "output_type": "execute_result"
    }
   ],
   "source": [
    "df = pd.read_csv('car_fuel_efficiency.csv')\n",
    "df.head()"
   ]
  },
  {
   "cell_type": "markdown",
   "id": "d619b9bf",
   "metadata": {},
   "source": [
    "### **Question 2**\n",
    "How many records are in the dataset?"
   ]
  },
  {
   "cell_type": "code",
   "execution_count": 5,
   "id": "b3a0e7c5",
   "metadata": {},
   "outputs": [
    {
     "name": "stdout",
     "output_type": "stream",
     "text": [
      "There are 9704 records in the dataset.\n"
     ]
    }
   ],
   "source": [
    "num_records = df.shape[0]\n",
    "\n",
    "print(f\"There are {num_records} records in the dataset.\")"
   ]
  },
  {
   "cell_type": "markdown",
   "id": "46be4700",
   "metadata": {},
   "source": [
    "### **Question 3**\n",
    "How many fuel types are presented in the dataset?"
   ]
  },
  {
   "cell_type": "code",
   "execution_count": 7,
   "id": "fba287a7",
   "metadata": {},
   "outputs": [
    {
     "name": "stdout",
     "output_type": "stream",
     "text": [
      "There are 2 unique fuel types in the dataset.\n"
     ]
    }
   ],
   "source": [
    "fuel_types = df['fuel_type'].nunique()\n",
    "print(f\"There are {fuel_types} unique fuel types in the dataset.\")"
   ]
  },
  {
   "cell_type": "markdown",
   "id": "c4439b39",
   "metadata": {},
   "source": [
    "### **Question 4**\n",
    "How many columns in the dataset have missing values?"
   ]
  },
  {
   "cell_type": "code",
   "execution_count": 14,
   "id": "ab295322",
   "metadata": {},
   "outputs": [
    {
     "name": "stdout",
     "output_type": "stream",
     "text": [
      "There are 4 columns with missing values.\n"
     ]
    }
   ],
   "source": [
    "n_missing_columns = df.isnull().any().sum()\n",
    "print(f\"There are {n_missing_columns} columns with missing values.\")"
   ]
  },
  {
   "cell_type": "markdown",
   "id": "dc785dc2",
   "metadata": {},
   "source": [
    "### **Question 5**\n",
    "What's the maximum fuel efficiency of cars from Asia?"
   ]
  },
  {
   "cell_type": "code",
   "execution_count": 22,
   "id": "46db1597",
   "metadata": {},
   "outputs": [
    {
     "name": "stdout",
     "output_type": "stream",
     "text": [
      "The maximum fuel efficiency of cars from Asia is 23.759122836520497 mpg.\n"
     ]
    }
   ],
   "source": [
    "max_fuel_efficiency = df.query(\"origin == 'Asia'\")['fuel_efficiency_mpg'].max()\n",
    "print(f\"The maximum fuel efficiency of cars from Asia is {max_fuel_efficiency} mpg.\")"
   ]
  },
  {
   "cell_type": "markdown",
   "id": "e7aad84b",
   "metadata": {},
   "source": [
    "### **Question 6**\n",
    "1. Find the median value of the horsepower column in the dataset.\n",
    "2. Next, calculate the most frequent value of the same horsepower column.\n",
    "3. Use the fillna method to fill the missing values in the horsepower column with the most frequent value from the previous step.\n",
    "4. Now, calculate the median value of horsepower once again.\n",
    "\n",
    "Has it changed?\n",
    "\n",
    "- Yes, it increased\n",
    "- Yes, it decreased\n",
    "- No"
   ]
  },
  {
   "cell_type": "code",
   "execution_count": 23,
   "id": "180fe8ee",
   "metadata": {},
   "outputs": [
    {
     "name": "stdout",
     "output_type": "stream",
     "text": [
      "The median of horsepower: 149.0\n",
      "The mode of horsepower: 152.0\n",
      "The median of horsepower: 152.0\n"
     ]
    }
   ],
   "source": [
    "median_horsepower = df['horsepower'].median()\n",
    "print(f\"The median of horsepower: {median_horsepower}\")\n",
    "\n",
    "mode_horsepower = df['horsepower'].mode()[0]\n",
    "print(f\"The mode of horsepower: {mode_horsepower}\")\n",
    "\n",
    "df['horsepower']= df['horsepower'].fillna(mode_horsepower)\n",
    "median_horsepower = df['horsepower'].median()\n",
    "print(f\"The median of horsepower: {median_horsepower}\")"
   ]
  },
  {
   "cell_type": "markdown",
   "id": "b1474926",
   "metadata": {},
   "source": [
    "### **Question 7**\n",
    "1. Select all the cars from Asia\n",
    "2. Select only columns vehicle_weight and model_year\n",
    "3. Select the first 7 values\n",
    "4. Get the underlying NumPy array. Let's call it X.\n",
    "5. Compute matrix-matrix multiplication between the transpose of X and X. To get the transpose, use X.T. Let's call the result XTX.\n",
    "6. Invert XTX.\n",
    "7. Create an array y with values [1100, 1300, 800, 900, 1000, 1100, 1200].\n",
    "8. Multiply the inverse of XTX with the transpose of X, and then multiply the result by y. Call the result w.\n",
    "\n",
    "What's the sum of all the elements of the result?"
   ]
  },
  {
   "cell_type": "code",
   "execution_count": 25,
   "id": "5c391caf",
   "metadata": {},
   "outputs": [
    {
     "name": "stdout",
     "output_type": "stream",
     "text": [
      "Matrix X:\n",
      " [[2714.21930965 2016.        ]\n",
      " [2783.86897424 2010.        ]\n",
      " [3582.68736772 2007.        ]\n",
      " [2231.8081416  2011.        ]\n",
      " [2659.43145076 2016.        ]\n",
      " [2844.22753389 2014.        ]\n",
      " [3761.99403819 2019.        ]]\n",
      "\n",
      "Matrix-Matrix Multiplication XTX:\n",
      " [[62248334.33150762 41431216.5073268 ]\n",
      " [41431216.5073268  28373339.        ]]\n",
      "\n",
      "The inverse of XTX:\n",
      " [[ 5.71497081e-07 -8.34509443e-07]\n",
      " [-8.34509443e-07  1.25380877e-06]]\n",
      "\n",
      "The value of w:\n",
      " [0.01386421 0.5049067 ]\n",
      "\n",
      "The sum of all the elemnts of the result: 0.5187709081074007\n"
     ]
    }
   ],
   "source": [
    "asia_cars = df.loc[df['origin'] == 'Asia', ['vehicle_weight', 'model_year']]\n",
    "X = asia_cars.head(7).values\n",
    "print(f\"Matrix X:\\n\", X)\n",
    "print()\n",
    "\n",
    "XTX = X.T.dot(X)\n",
    "print(f\"Matrix-Matrix Multiplication XTX:\\n\", XTX)\n",
    "print()\n",
    "\n",
    "inv_XTX = np.linalg.inv(XTX)\n",
    "print(f\"The inverse of XTX:\\n\", inv_XTX)\n",
    "print()\n",
    "\n",
    "y = [1100, 1300, 800, 900, 1000, 1100, 1200]\n",
    "\n",
    "w = inv_XTX.dot(X.T).dot(y)\n",
    "print(f\"The value of w:\\n\", w)\n",
    "print()\n",
    "\n",
    "total_w = w.sum()\n",
    "print(f\"The sum of all the elemnts of the result:\", total_w)"
   ]
  }
 ],
 "metadata": {
  "kernelspec": {
   "display_name": "base",
   "language": "python",
   "name": "python3"
  },
  "language_info": {
   "codemirror_mode": {
    "name": "ipython",
    "version": 3
   },
   "file_extension": ".py",
   "mimetype": "text/x-python",
   "name": "python",
   "nbconvert_exporter": "python",
   "pygments_lexer": "ipython3",
   "version": "3.13.5"
  }
 },
 "nbformat": 4,
 "nbformat_minor": 5
}
